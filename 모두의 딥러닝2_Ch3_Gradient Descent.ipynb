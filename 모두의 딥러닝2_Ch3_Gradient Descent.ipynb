{
 "cells": [
  {
   "cell_type": "markdown",
   "metadata": {},
   "source": [
    "# Deeper Look at Gradient Descent"
   ]
  },
  {
   "cell_type": "markdown",
   "metadata": {},
   "source": [
    "- Hypothesis function 복습\n",
    "- Temporial Data Definition\n",
    "- Cost Function 이해\n",
    "- Gradient Descent 이론\n",
    "- Gradient Descent 구현\n",
    "- Gradient Descent 구현(nn.optim)"
   ]
  },
  {
   "cell_type": "markdown",
   "metadata": {},
   "source": [
    "$H(x) = Wx + b$"
   ]
  },
  {
   "cell_type": "code",
   "execution_count": 2,
   "metadata": {},
   "outputs": [],
   "source": [
    "import torch\n",
    "\n",
    "x_train = torch.FloatTensor( [ [1], [2], [3]])\n",
    "y_train = torch.FloatTensor( [ [2], [4], [6]])\n",
    "\n",
    "w = torch.zeros(1, requires_grad = True)\n",
    "b = torch.zeros(1, requires_grad = True)\n",
    "hypothesis = x_train * w + b"
   ]
  },
  {
   "cell_type": "markdown",
   "metadata": {},
   "source": [
    "## Simpler Hypothesis Function"
   ]
  },
  {
   "cell_type": "markdown",
   "metadata": {},
   "source": [
    "$ H(x) = Wx$"
   ]
  },
  {
   "cell_type": "code",
   "execution_count": 4,
   "metadata": {},
   "outputs": [],
   "source": [
    "x_train = torch.FloatTensor( [ [1], [2], [3]])\n",
    "y_train = torch.FloatTensor( [ [1], [2], [3]])\n",
    "\n",
    "w = torch.zeros(1, requires_grad = True)\n",
    "#b = torch.zeros(1, requires_grad = True)\n",
    "hypothesis = x_train * w"
   ]
  },
  {
   "cell_type": "markdown",
   "metadata": {},
   "source": [
    "## What is the best model?"
   ]
  },
  {
   "cell_type": "markdown",
   "metadata": {},
   "source": [
    "- H(x) = x 가 정확한 model\n",
    "- W = 1이 가장 좋은 숫자\n",
    "\n",
    "- Model의 좋고 나쁨을 평가하는 방법은?"
   ]
  },
  {
   "cell_type": "markdown",
   "metadata": {},
   "source": [
    "cost function : MSE 사용"
   ]
  },
  {
   "cell_type": "markdown",
   "metadata": {},
   "source": [
    "## Gradient Descent  "
   ]
  },
  {
   "cell_type": "markdown",
   "metadata": {},
   "source": [
    "- 곡선을 내려가자         \n",
    "- 기울기가 클수록 더 멀리!         \n",
    "- Gradient를 계산      \n",
    "            "
   ]
  },
  {
   "cell_type": "markdown",
   "metadata": {},
   "source": [
    "$ \\frac{\\delta cost} {\\delta W} = \\nabla W$"
   ]
  },
  {
   "cell_type": "markdown",
   "metadata": {},
   "source": [
    "$ cost(W) = \\frac{1}{m} \\sum_{i = 1}^{m}(Wx^{(i)} - y^{(i)})^{2}$         \n",
    "\n",
    "$ \\nabla W = \\frac{\\delta cost}{\\delta W} = \\frac{2}{m}\\sum_{i = 1}^{m}(Wx^{(i)} - y^{(i)})x^{(i)} $       \n",
    "                     \n",
    "$ W := W - \\alpha\\nabla W $"
   ]
  },
  {
   "cell_type": "code",
   "execution_count": 9,
   "metadata": {},
   "outputs": [],
   "source": [
    "gradient = 2 * torch.mean( (w* x_train - y_train) * x_train)\n",
    "lr = 0.1\n",
    "w -=  lr * gradient"
   ]
  },
  {
   "cell_type": "markdown",
   "metadata": {},
   "source": [
    "## Full Code"
   ]
  },
  {
   "cell_type": "code",
   "execution_count": 15,
   "metadata": {},
   "outputs": [
    {
     "name": "stdout",
     "output_type": "stream",
     "text": [
      "Epoch    0/10, W : 0.000, Cost : 4.666667\n",
      "Epoch    1/10, W : 1.400, Cost : 0.746666\n",
      "Epoch    2/10, W : 0.840, Cost : 0.119467\n",
      "Epoch    3/10, W : 1.064, Cost : 0.019115\n",
      "Epoch    4/10, W : 0.974, Cost : 0.003058\n",
      "Epoch    5/10, W : 1.010, Cost : 0.000489\n",
      "Epoch    6/10, W : 0.996, Cost : 0.000078\n",
      "Epoch    7/10, W : 1.002, Cost : 0.000013\n",
      "Epoch    8/10, W : 0.999, Cost : 0.000002\n",
      "Epoch    9/10, W : 1.000, Cost : 0.000000\n",
      "Epoch   10/10, W : 1.000, Cost : 0.000000\n"
     ]
    }
   ],
   "source": [
    "# Data\n",
    "x_train = torch.FloatTensor( [ [1], [2], [3] ])\n",
    "y_train = torch.FloatTensor( [ [1], [2], [3] ])\n",
    "\n",
    "# Model Initial\n",
    "w = torch.zeros(1)\n",
    "\n",
    "# Learning Rate 설정\n",
    "lr = 0.1\n",
    "\n",
    "nb_epochs = 10\n",
    "\n",
    "for epoch in range(nb_epochs + 1) :\n",
    "    \n",
    "    # H(x) 계산\n",
    "    hypothesis = x_train * w\n",
    "    \n",
    "    # cost gradient 계산\n",
    "    cost = torch.mean( (hypothesis - y_train) **2)\n",
    "    gradient = torch.sum( (w*x_train - y_train) * x_train)\n",
    "    \n",
    "    print('Epoch {:4d}/{}, W : {:.3f}, Cost : {:.6f}'\n",
    "          .format(epoch, nb_epochs, w.item(), cost.item()))\n",
    "    \n",
    "    # cost gradient로 H(x) 계산\n",
    "    \n",
    "    w -= lr * gradient"
   ]
  },
  {
   "cell_type": "markdown",
   "metadata": {},
   "source": [
    "- Epoch : data로 학습한 횟수\n",
    "- 학습하면서 점점 :\n",
    "    - 1에 수렴하는 W\n",
    "    - 줄어드는 cost"
   ]
  },
  {
   "cell_type": "markdown",
   "metadata": {},
   "source": [
    " "
   ]
  },
  {
   "cell_type": "markdown",
   "metadata": {},
   "source": [
    "## Gradient Descent with torch.optim"
   ]
  },
  {
   "cell_type": "markdown",
   "metadata": {},
   "source": [
    "- torch.optim으로도 gradient descent를 할 수 있다.\n",
    "   - 시작할 때 Optimizer 정의\n",
    "   - optimizer.zero_grad()로 gradient를 0으로 초기화\n",
    "   - cost.backward()로 gradient 계산\n",
    "   - optimizer.step()으로 gradient descent"
   ]
  },
  {
   "cell_type": "code",
   "execution_count": null,
   "metadata": {},
   "outputs": [],
   "source": [
    "# optimizer 설정\n",
    "optimizer = torch.optim.SGD([w] , lr = 0.15)\n",
    "\n",
    "# cost로 H(x) 개선\n",
    "\n",
    "## 모든 학습 가능한 변수들을 0으로 초기화\n",
    "optimizer.zero_grad()\n",
    "\n",
    "## cost function mu1(?) 각 변수들의 gradient들을 채운다\n",
    "cost.backward()\n",
    "\n",
    "## 저장된 gradient로 실행\n",
    "optimizer.step()"
   ]
  },
  {
   "cell_type": "markdown",
   "metadata": {},
   "source": [
    "## Full Code with torch.optim"
   ]
  },
  {
   "cell_type": "code",
   "execution_count": 16,
   "metadata": {},
   "outputs": [
    {
     "name": "stdout",
     "output_type": "stream",
     "text": [
      "Epoch    0/10, W : 0.000, Cost : 4.666667\n",
      "Epoch    1/10, W : 1.400, Cost : 0.746667\n",
      "Epoch    2/10, W : 0.840, Cost : 0.119467\n",
      "Epoch    3/10, W : 1.064, Cost : 0.019115\n",
      "Epoch    4/10, W : 0.974, Cost : 0.003058\n",
      "Epoch    5/10, W : 1.010, Cost : 0.000489\n",
      "Epoch    6/10, W : 0.996, Cost : 0.000078\n",
      "Epoch    7/10, W : 1.002, Cost : 0.000013\n",
      "Epoch    8/10, W : 0.999, Cost : 0.000002\n",
      "Epoch    9/10, W : 1.000, Cost : 0.000000\n",
      "Epoch   10/10, W : 1.000, Cost : 0.000000\n"
     ]
    }
   ],
   "source": [
    "# Data\n",
    "x_train = torch.FloatTensor( [ [1], [2], [3] ])\n",
    "y_train = torch.FloatTensor( [ [1], [2], [3] ])\n",
    "\n",
    "# Model Initial\n",
    "w = torch.zeros(1, requires_grad = True)\n",
    "\n",
    "# optimizer 설정\n",
    "optimizer = torch.optim.SGD([w] , lr = 0.15)\n",
    "\n",
    "nb_epochs = 10\n",
    "\n",
    "for epoch in range(nb_epochs + 1) :\n",
    "    \n",
    "    # H(x) 계산\n",
    "    hypothesis = x_train * w\n",
    "    \n",
    "    # cost gradient 계산\n",
    "    cost = torch.mean( (hypothesis - y_train) **2)\n",
    "    \n",
    "    print('Epoch {:4d}/{}, W : {:.3f}, Cost : {:.6f}'\n",
    "          .format(epoch, nb_epochs, w.item(), cost.item()))\n",
    "    \n",
    "    # cost로 H(x) 개선\n",
    "\n",
    "    ## 모든 학습 가능한 변수들을 0으로 초기화\n",
    "    optimizer.zero_grad()\n",
    "\n",
    "    ## cost function mu1(?) 각 변수들의 gradient들을 채운다\n",
    "    cost.backward()\n",
    "\n",
    "    ## 저장된 gradient로 실행\n",
    "    optimizer.step()"
   ]
  },
  {
   "cell_type": "markdown",
   "metadata": {},
   "source": [
    "- Epoch : data로 학습한 횟수\n",
    "- 학습하면서 점점 :\n",
    "    - 1에 수렴하는 W\n",
    "    - 줄어드는 cost"
   ]
  },
  {
   "cell_type": "markdown",
   "metadata": {},
   "source": [
    "=> 지금까지 하나의 정보로부터 추측하는 model 생성 (일변수)\n",
    "\n",
    "=> 다음 강의에선 여러개의 정보로부터 결론을 추측하는 model 생성 예정 (다변수)"
   ]
  }
 ],
 "metadata": {
  "kernelspec": {
   "display_name": "Python 3",
   "language": "python",
   "name": "python3"
  },
  "language_info": {
   "codemirror_mode": {
    "name": "ipython",
    "version": 3
   },
   "file_extension": ".py",
   "mimetype": "text/x-python",
   "name": "python",
   "nbconvert_exporter": "python",
   "pygments_lexer": "ipython3",
   "version": "3.8.5"
  }
 },
 "nbformat": 4,
 "nbformat_minor": 4
}
