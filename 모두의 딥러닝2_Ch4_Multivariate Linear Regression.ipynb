{
 "cells": [
  {
   "cell_type": "markdown",
   "metadata": {},
   "source": [
    "# Ch4. Multivariate Linear Regression"
   ]
  },
  {
   "cell_type": "markdown",
   "metadata": {},
   "source": [
    "1. Simple Linear Regression 복습\n",
    "2. Multivariate Linear Regression 이론\n",
    "3. Naive Data Representation\n",
    "4. Matrix Data Representation\n",
    "5. Multivariate Linear  Regression\n",
    "6. nn.module 소개\n",
    "7. F.mse_loss 소개"
   ]
  },
  {
   "cell_type": "markdown",
   "metadata": {},
   "source": [
    "## Simple Linear Regression"
   ]
  },
  {
   "cell_type": "markdown",
   "metadata": {},
   "source": [
    "- 하나의 정보"
   ]
  },
  {
   "cell_type": "markdown",
   "metadata": {},
   "source": [
    "$H(x) = Wx + b $"
   ]
  },
  {
   "cell_type": "markdown",
   "metadata": {},
   "source": [
    "## Multivariate Linear Regression"
   ]
  },
  {
   "cell_type": "markdown",
   "metadata": {},
   "source": [
    "- 여러 정보"
   ]
  },
  {
   "cell_type": "markdown",
   "metadata": {},
   "source": [
    "$ H(x) = Wx + b $"
   ]
  },
  {
   "cell_type": "markdown",
   "metadata": {},
   "source": [
    "## Hypothesis Function"
   ]
  },
  {
   "cell_type": "markdown",
   "metadata": {},
   "source": [
    "$ H(x) = Wx + b $  \n",
    "- x라는 vector와 W라는 matrix의 곱"
   ]
  },
  {
   "cell_type": "markdown",
   "metadata": {},
   "source": [
    "$ H(x) = w_{1}x_{1} + w_{2}x_{2} + w_{3}x_{3} + b$\n",
    "- 입력변수가 3개라면 weight도 3개!"
   ]
  },
  {
   "cell_type": "markdown",
   "metadata": {},
   "source": [
    "## Hypothesis Function : Naive"
   ]
  },
  {
   "cell_type": "code",
   "execution_count": null,
   "metadata": {},
   "outputs": [],
   "source": [
    "# H(x) 계산\n",
    "hypothesis = x1_train * w1 + x2_train * w2 + x3_train *w3 + b"
   ]
  },
  {
   "cell_type": "markdown",
   "metadata": {},
   "source": [
    "- 단순한 hypothesis 정의!\n",
    "- But x가 길이 1000의 vector라면?"
   ]
  },
  {
   "cell_type": "markdown",
   "metadata": {},
   "source": [
    "-> 변수가 굉장히 많아지면 일일이 쓰기엔 너무 많기에 Matrix 활용"
   ]
  },
  {
   "cell_type": "markdown",
   "metadata": {},
   "source": [
    "## Hypothesis Function : Matrix"
   ]
  },
  {
   "cell_type": "code",
   "execution_count": null,
   "metadata": {},
   "outputs": [],
   "source": [
    "# H(x) 계산\n",
    "hypothesis = x_train.matmul(w) + b # or .mm or @"
   ]
  },
  {
   "cell_type": "markdown",
   "metadata": {},
   "source": [
    "- matmul()로 한번에 계산\n",
    "   - 더 간결\n",
    "   - x의 길이가 바뀌어도 코드 변환 필요 없음\n",
    "   - 속도가 더 빠름"
   ]
  },
  {
   "cell_type": "markdown",
   "metadata": {},
   "source": [
    "$ H(x) = Wx + b$ "
   ]
  },
  {
   "cell_type": "markdown",
   "metadata": {},
   "source": [
    "## Cost Function : MSE"
   ]
  },
  {
   "cell_type": "markdown",
   "metadata": {},
   "source": [
    "- 기존 simple Linear Regression 과 동일한 공식!  \n",
    "$ cost(W) = \\frac{1}{m}\\sum_{i=1}^{m}(H(x^{(i)}) - y^{(i)})^{2} $   \n",
    "\n",
    "\n",
    "- $ \\frac{1}{m}\\sum_{i=1}^{m} $ : Mean\n",
    "- $ H(x^{(i)}) $ : Prediction\n",
    "- $ y^{(i)} $ : Target"
   ]
  },
  {
   "cell_type": "code",
   "execution_count": null,
   "metadata": {},
   "outputs": [],
   "source": [
    "cost = torch.mean( (hypothesis - y_train) ** 2)"
   ]
  },
  {
   "cell_type": "markdown",
   "metadata": {},
   "source": [
    "## Gradient Descent with torch.optim"
   ]
  },
  {
   "cell_type": "markdown",
   "metadata": {},
   "source": [
    "$ \\nabla W = \\frac{\\delta cost}{\\delta W} = \\frac{2}{m}\\sum_{i = 1}^{m}(Wx^{(i)} - y^{(i)})x^{(i)} $\n",
    "\n",
    "$ W := W - \\alpha \\nabla W$"
   ]
  },
  {
   "cell_type": "code",
   "execution_count": null,
   "metadata": {},
   "outputs": [],
   "source": [
    "# optimizer 설정\n",
    "optimizer = optim.SGD([w,b], lr = 1e-5)\n",
    "\n",
    "# optimizer 사용법\n",
    "optimizer.zero_grad()\n",
    "cost.backward()\n",
    "optimizer.step()"
   ]
  },
  {
   "cell_type": "markdown",
   "metadata": {},
   "source": [
    "## Full Code with torch.optim"
   ]
  },
  {
   "cell_type": "code",
   "execution_count": 5,
   "metadata": {},
   "outputs": [
    {
     "name": "stdout",
     "output_type": "stream",
     "text": [
      "Epoch    0/20 hypothesis : tensor([0., 0., 0., 0., 0.]) Cost : 29661.800781\n",
      "Epoch    1/20 hypothesis : tensor([67.2578, 80.8397, 79.6523, 86.7394, 61.6605]) Cost : 9298.520508\n",
      "Epoch    2/20 hypothesis : tensor([104.9128, 126.0990, 124.2466, 135.3015,  96.1821]) Cost : 2915.712402\n",
      "Epoch    3/20 hypothesis : tensor([125.9942, 151.4381, 149.2133, 162.4896, 115.5097]) Cost : 915.040527\n",
      "Epoch    4/20 hypothesis : tensor([137.7968, 165.6247, 163.1911, 177.7112, 126.3307]) Cost : 287.936005\n",
      "Epoch    5/20 hypothesis : tensor([144.4044, 173.5674, 171.0168, 186.2332, 132.3891]) Cost : 91.371010\n",
      "Epoch    6/20 hypothesis : tensor([148.1035, 178.0144, 175.3980, 191.0042, 135.7812]) Cost : 29.758139\n",
      "Epoch    7/20 hypothesis : tensor([150.1744, 180.5042, 177.8508, 193.6753, 137.6805]) Cost : 10.445305\n",
      "Epoch    8/20 hypothesis : tensor([151.3336, 181.8983, 179.2240, 195.1707, 138.7440]) Cost : 4.391228\n",
      "Epoch    9/20 hypothesis : tensor([151.9824, 182.6789, 179.9928, 196.0079, 139.3396]) Cost : 2.493135\n",
      "Epoch   10/20 hypothesis : tensor([152.3454, 183.1161, 180.4231, 196.4765, 139.6732]) Cost : 1.897688\n",
      "Epoch   11/20 hypothesis : tensor([152.5485, 183.3610, 180.6640, 196.7389, 139.8602]) Cost : 1.710541\n",
      "Epoch   12/20 hypothesis : tensor([152.6620, 183.4982, 180.7988, 196.8857, 139.9651]) Cost : 1.651412\n",
      "Epoch   13/20 hypothesis : tensor([152.7253, 183.5752, 180.8742, 196.9678, 140.0240]) Cost : 1.632387\n",
      "Epoch   14/20 hypothesis : tensor([152.7606, 183.6184, 180.9164, 197.0138, 140.0571]) Cost : 1.625923\n",
      "Epoch   15/20 hypothesis : tensor([152.7802, 183.6427, 180.9399, 197.0395, 140.0759]) Cost : 1.623412\n",
      "Epoch   16/20 hypothesis : tensor([152.7909, 183.6565, 180.9530, 197.0538, 140.0865]) Cost : 1.622141\n",
      "Epoch   17/20 hypothesis : tensor([152.7968, 183.6643, 180.9603, 197.0618, 140.0927]) Cost : 1.621253\n",
      "Epoch   18/20 hypothesis : tensor([152.7999, 183.6688, 180.9644, 197.0662, 140.0963]) Cost : 1.620500\n",
      "Epoch   19/20 hypothesis : tensor([152.8014, 183.6715, 180.9666, 197.0686, 140.0985]) Cost : 1.619770\n",
      "Epoch   20/20 hypothesis : tensor([152.8020, 183.6731, 180.9677, 197.0699, 140.1000]) Cost : 1.619033\n"
     ]
    }
   ],
   "source": [
    "import torch\n",
    "\n",
    "# Data Definition \n",
    "x_train = torch.FloatTensor([ [73, 80, 75],\n",
    "                              [93, 88, 93],\n",
    "                              [89, 91, 90],\n",
    "                              [96, 98, 100],\n",
    "                              [73, 66, 70]])\n",
    "\n",
    "y_train = torch.FloatTensor([ [152], [185], [180], [196], [142]])\n",
    "\n",
    "# model initialization\n",
    "w = torch.zeros((3,1), requires_grad = True)\n",
    "b = torch.zeros(1, requires_grad= True)\n",
    "\n",
    "# optimizer 설정\n",
    "optimizer = torch.optim.SGD([w,b], lr = 1e-5)\n",
    "\n",
    "nb_epochs = 20\n",
    "\n",
    "for epoch in range(nb_epochs + 1) :\n",
    "    \n",
    "    # H(x) 계산\n",
    "    hypothesis = x_train.matmul(w) + b # or .mm or @\n",
    "    \n",
    "    # cost 계산\n",
    "    cost = torch.mean( (hypothesis - y_train) **2)\n",
    "    \n",
    "    # cost로 H(x) 개선, gradient descent\n",
    "    optimizer. zero_grad()\n",
    "    cost.backward()\n",
    "    optimizer.step()\n",
    "    \n",
    "    print('Epoch {:4d}/{} hypothesis : {} Cost : {:.6f}'.format(\n",
    "    epoch, nb_epochs, hypothesis.squeeze().detach(), cost.item()))\n",
    "    "
   ]
  },
  {
   "cell_type": "markdown",
   "metadata": {},
   "source": [
    "=> simple linear regression과 거의 같은 code가 의미하는 바는 pytorch의 확장성을 보여줌"
   ]
  },
  {
   "cell_type": "markdown",
   "metadata": {},
   "source": [
    "- 점점 작아지는 Cost\n",
    "- 점점  y에 가까워지는 H(x)\n",
    "- Learning rate에 따라 발산할수도!"
   ]
  },
  {
   "cell_type": "markdown",
   "metadata": {},
   "source": [
    "## nn.Module"
   ]
  },
  {
   "cell_type": "code",
   "execution_count": null,
   "metadata": {},
   "outputs": [],
   "source": [
    "# model initialization\n",
    "w = torch.zeros( (3,1), requires_grad = True)\n",
    "b = torch.zeros( 1, requires_grad = True)\n",
    "\n",
    "# H(x) 계산\n",
    "hypothesis = x_train.matmul(w) + b # or .mm or @\n",
    "\n",
    "import torch.nn as nn\n",
    "\n",
    "class MultivariateLinearRegressionModel(nn.modeule) :\n",
    "    def __init__(self) :\n",
    "        super().__init__()\n",
    "        self.linear = nn.Linear(3, 1)\n",
    "        \n",
    "    def forward(self, x) :\n",
    "        return self.linear(x)\n",
    "    \n",
    "hypothesis = model(x_train)"
   ]
  },
  {
   "cell_type": "markdown",
   "metadata": {},
   "source": [
    "- nn.Module을 상속해서 model 생성\n",
    "- nn.Linear(3,1)\n",
    "   - 입력 차원 : 3\n",
    "   - 출력 차원 : 1\n",
    "- Hypothesis 계산은 forward() 에서!\n",
    "- Gradient 계산은 PyTorch가 알아서 해준다. backward()"
   ]
  },
  {
   "cell_type": "markdown",
   "metadata": {},
   "source": [
    "## F.mse_loss"
   ]
  },
  {
   "cell_type": "code",
   "execution_count": null,
   "metadata": {},
   "outputs": [],
   "source": [
    "# cost 계산\n",
    "cost = torch.mean( (hypothesis - y_train) ** 2)\n",
    "\n",
    "import torch.nn.functional as F\n",
    "\n",
    "# cost 계산\n",
    "cost = F.mse_loss(prediction, y_train)\n",
    "## bug 발생율이 줄어듬"
   ]
  },
  {
   "cell_type": "markdown",
   "metadata": {},
   "source": [
    "- torch.nn.functional 에서 제공하는 loss function 사용\n",
    "- 쉽게 다른 loss와 교체 가능! (ㅣ1_loss, smooth_l1_loss 등)"
   ]
  },
  {
   "cell_type": "markdown",
   "metadata": {},
   "source": [
    "## Full Code with torch.optim(1)"
   ]
  },
  {
   "cell_type": "code",
   "execution_count": 11,
   "metadata": {},
   "outputs": [],
   "source": [
    "import torch.nn as nn\n",
    "\n",
    "class MultivariateLinearRegressionModel(nn.Module) :\n",
    "    def __init__(self) :\n",
    "        super().__init__()\n",
    "        self.linear = nn.Linear(3, 1)\n",
    "        \n",
    "    def forward(self, x) :\n",
    "        return self.linear(x)"
   ]
  },
  {
   "cell_type": "code",
   "execution_count": 20,
   "metadata": {
    "scrolled": false
   },
   "outputs": [
    {
     "name": "stdout",
     "output_type": "stream",
     "text": [
      "Epoch    0/20 hypothesis : tensor([152.8020, 183.6731, 180.9677, 197.0699, 140.1000]) Cost : 37060.980469\n",
      "Epoch    1/20 hypothesis : tensor([152.8020, 183.6731, 180.9677, 197.0699, 140.1000]) Cost : 11616.993164\n",
      "Epoch    2/20 hypothesis : tensor([152.8020, 183.6731, 180.9677, 197.0699, 140.1000]) Cost : 3641.650879\n",
      "Epoch    3/20 hypothesis : tensor([152.8020, 183.6731, 180.9677, 197.0699, 140.1000]) Cost : 1141.804932\n",
      "Epoch    4/20 hypothesis : tensor([152.8020, 183.6731, 180.9677, 197.0699, 140.1000]) Cost : 358.236725\n",
      "Epoch    5/20 hypothesis : tensor([152.8020, 183.6731, 180.9677, 197.0699, 140.1000]) Cost : 112.629311\n",
      "Epoch    6/20 hypothesis : tensor([152.8020, 183.6731, 180.9677, 197.0699, 140.1000]) Cost : 35.644527\n",
      "Epoch    7/20 hypothesis : tensor([152.8020, 183.6731, 180.9677, 197.0699, 140.1000]) Cost : 11.513758\n",
      "Epoch    8/20 hypothesis : tensor([152.8020, 183.6731, 180.9677, 197.0699, 140.1000]) Cost : 3.950182\n",
      "Epoch    9/20 hypothesis : tensor([152.8020, 183.6731, 180.9677, 197.0699, 140.1000]) Cost : 1.579304\n",
      "Epoch   10/20 hypothesis : tensor([152.8020, 183.6731, 180.9677, 197.0699, 140.1000]) Cost : 0.836152\n",
      "Epoch   11/20 hypothesis : tensor([152.8020, 183.6731, 180.9677, 197.0699, 140.1000]) Cost : 0.603212\n",
      "Epoch   12/20 hypothesis : tensor([152.8020, 183.6731, 180.9677, 197.0699, 140.1000]) Cost : 0.530178\n",
      "Epoch   13/20 hypothesis : tensor([152.8020, 183.6731, 180.9677, 197.0699, 140.1000]) Cost : 0.507283\n",
      "Epoch   14/20 hypothesis : tensor([152.8020, 183.6731, 180.9677, 197.0699, 140.1000]) Cost : 0.500090\n",
      "Epoch   15/20 hypothesis : tensor([152.8020, 183.6731, 180.9677, 197.0699, 140.1000]) Cost : 0.497825\n",
      "Epoch   16/20 hypothesis : tensor([152.8020, 183.6731, 180.9677, 197.0699, 140.1000]) Cost : 0.497103\n",
      "Epoch   17/20 hypothesis : tensor([152.8020, 183.6731, 180.9677, 197.0699, 140.1000]) Cost : 0.496857\n",
      "Epoch   18/20 hypothesis : tensor([152.8020, 183.6731, 180.9677, 197.0699, 140.1000]) Cost : 0.496779\n",
      "Epoch   19/20 hypothesis : tensor([152.8020, 183.6731, 180.9677, 197.0699, 140.1000]) Cost : 0.496734\n",
      "Epoch   20/20 hypothesis : tensor([152.8020, 183.6731, 180.9677, 197.0699, 140.1000]) Cost : 0.496707\n"
     ]
    }
   ],
   "source": [
    "import torch\n",
    "\n",
    "# data\n",
    "x_train = torch.FloatTensor([ [73, 80, 75],\n",
    "                              [93, 88, 93],\n",
    "                              [89, 91, 90],\n",
    "                              [96, 98, 100],\n",
    "                              [73, 66, 70]])\n",
    "\n",
    "y_train = torch.FloatTensor([ [152], [185], [180], [196], [142]])\n",
    "\n",
    "# model initialization\n",
    "model = MultivariateLinearRegressionModel()\n",
    "w, b = model.parameters()\n",
    "\n",
    "# optimizer 설정\n",
    "optimizer = torch.optim.SGD([w,b], lr = 1e-5)\n",
    "\n",
    "nb_epochs = 20 \n",
    "for epoch in range(nb_epochs + 1) :\n",
    "    \n",
    "    # H(x) 계산\n",
    "    Hypothesis = model(x_train)\n",
    "    \n",
    "    # cost 계산\n",
    "    cost = F.mse_loss(Hypothesis, y_train)\n",
    "    \n",
    "    # cost로 계산 H(x) 개선\n",
    "    optimizer.zero_grad()\n",
    "    cost.backward()\n",
    "    optimizer.step()\n",
    "    \n",
    "    print('Epoch {:4d}/{} hypothesis : {} Cost : {:.6f}'.format(\n",
    "    epoch, nb_epochs, hypothesis.squeeze().detach(), cost.item()))\n",
    "    "
   ]
  },
  {
   "cell_type": "markdown",
   "metadata": {},
   "source": [
    "- 지금까지 적은 양의 데이터를 가지고 학습함\n",
    "- But deep learning은 많은 양의 data와 함께할 때 빛을 발함\n",
    "- PyTorch에서는 많은 양의 data를 어떻게 다루는가?(다른 강의에서 진행 예정)"
   ]
  },
  {
   "cell_type": "markdown",
   "metadata": {},
   "source": [
    " "
   ]
  },
  {
   "cell_type": "markdown",
   "metadata": {},
   "source": [
    " "
   ]
  },
  {
   "cell_type": "markdown",
   "metadata": {},
   "source": [
    " "
   ]
  },
  {
   "cell_type": "markdown",
   "metadata": {},
   "source": [
    "# Loading Data"
   ]
  },
  {
   "cell_type": "markdown",
   "metadata": {},
   "source": [
    "- Data를 편하게 관리하는 방법"
   ]
  },
  {
   "cell_type": "markdown",
   "metadata": {},
   "source": [
    "1. Multivariate Linear Regression 복습\n",
    "2. \"Minibatch\" Gradient Descent 이론\n",
    "3. PyTorch Dataset and DataLoader 사용법"
   ]
  },
  {
   "cell_type": "markdown",
   "metadata": {},
   "source": [
    "## Multivariate Linear Regression"
   ]
  },
  {
   "cell_type": "markdown",
   "metadata": {},
   "source": [
    "- 여러 정보(특징)으로부터 하나의 정보를 예측\n",
    "\n",
    "$ H(x) = Wx + b $"
   ]
  },
  {
   "cell_type": "code",
   "execution_count": null,
   "metadata": {},
   "outputs": [],
   "source": [
    "import torch\n",
    "\n",
    "# data\n",
    "x_train = torch.FloatTensor([ [73, 80, 75],\n",
    "                              [93, 88, 93],\n",
    "                              [89, 91, 90],\n",
    "                              [96, 98, 100],\n",
    "                              [73, 66, 70]])\n",
    "\n",
    "y_train = torch.FloatTensor([ [152], [185], [180], [196], [142]])"
   ]
  },
  {
   "cell_type": "markdown",
   "metadata": {},
   "source": [
    "- 이전 강의에서 위 데이터를 활용하여 예측을 하였고\n",
    "   - 점점  작아지는 Cost\n",
    "   - 점점 y에 가까워지는 H(x)\n",
    "   - Learning rate에 따라 발산 할 수도  있음"
   ]
  },
  {
   "cell_type": "markdown",
   "metadata": {},
   "source": [
    "### Data in the Real World\n",
    "\n",
    "- 복잡한 ML model을 학습하려면 엄청난 양의 데이터가 필요하다.\n",
    "- 대부분 data set은 적어도 수십만 개의 데이터를 제공"
   ]
  },
  {
   "cell_type": "markdown",
   "metadata": {},
   "source": [
    "### Data in the Real World : Problem\n",
    "\n",
    "- 엄청난 양의 데이터를 한 번에 학습시킬 수 없다!\n",
    "   - 너무 느림\n",
    "   - Hardware 상 불가능\n",
    "   \n",
    "- 그렇다면 일부분의 data로만 학습하면 어떨까?"
   ]
  },
  {
   "cell_type": "markdown",
   "metadata": {},
   "source": [
    "=> 그렇게 나온 IDEA가 Minibatch"
   ]
  },
  {
   "cell_type": "markdown",
   "metadata": {},
   "source": [
    "## Minibatch Gradient Descent"
   ]
  },
  {
   "cell_type": "markdown",
   "metadata": {},
   "source": [
    "- 전체 data를 균일하게 나눠서 학습"
   ]
  },
  {
   "cell_type": "markdown",
   "metadata": {},
   "source": [
    "## Minibatch Gradient Descent : Effects"
   ]
  },
  {
   "cell_type": "markdown",
   "metadata": {},
   "source": [
    "- update를 좀 더 빠르게 가능\n",
    "- 전체 데이터를 쓰지 않아서 잘못된 방향으로 update를 할 수도 있음"
   ]
  },
  {
   "cell_type": "markdown",
   "metadata": {},
   "source": [
    "## PyTorch Data Set"
   ]
  },
  {
   "cell_type": "code",
   "execution_count": 21,
   "metadata": {},
   "outputs": [],
   "source": [
    "# torch.utils.data.Dataset 상송\n",
    "from torch.utils.data import Dataset\n",
    "\n",
    "class CustomDataset(Dataset) :\n",
    "    def __init__(self) :\n",
    "        self.x_data = [ [73, 80, 75],\n",
    "                              [93, 88, 93],\n",
    "                              [89, 91, 90],\n",
    "                              [96, 98, 100],\n",
    "                              [73, 66, 70]]\n",
    "        self.y_data = [ [152], [185], [180], [196], [142]]\n",
    "    \n",
    "    # 이 data set의 총 data 수\n",
    "    def __len__(self) :\n",
    "        return len(self.x_data)\n",
    "    \n",
    "    # 어떠한 index를 받았을때, 그에 상응하는 입출력 data 반환\n",
    "    def __getitem__(self, idx) :\n",
    "        x = torch.FloatTensor(self.x_data[idx])\n",
    "        y = torch.FloatTensor(self.y_data[idx])\n",
    "        \n",
    "        return x,y\n",
    "    \n",
    "dataset = CustomDataset()"
   ]
  },
  {
   "cell_type": "markdown",
   "metadata": {},
   "source": [
    "## PyTorch DataLoader"
   ]
  },
  {
   "cell_type": "code",
   "execution_count": null,
   "metadata": {},
   "outputs": [],
   "source": [
    "from torch.utils.data import DataLoader\n",
    "\n",
    "dataloader = DataLoader(\n",
    "    \n",
    "            dataset,\n",
    "    \n",
    "            # 각 minibatch의 크기, 통상적으로 2의 제곱수로 설정\n",
    "            batch_size = 2,\n",
    "    \n",
    "            #Epoch 마다 data set을 섞어서, data가 학습되는 순서를 바꾼다.\n",
    "            shuffle = True,\n",
    "            )"
   ]
  },
  {
   "cell_type": "markdown",
   "metadata": {},
   "source": [
    "## Full Code with Dataset And DataLoader"
   ]
  },
  {
   "cell_type": "code",
   "execution_count": null,
   "metadata": {},
   "outputs": [],
   "source": [
    "nb_epochs = 20\n",
    "\n",
    "for epoch in range(nb_epochs + 1 ) :\n",
    "    # enumerate(dataloader) : minibatch index & data\n",
    "    for batch_idx, samples in enumerate(dataloader) :\n",
    "        x_train, y_train = samples\n",
    "        \n",
    "        # H(x) 계산\n",
    "        prediction = model(x_train)\n",
    "        \n",
    "        # cost 계산\n",
    "        cost = F.mse_loss(prediction, y_train)\n",
    "        \n",
    "        # cost로 H(x) 개선\n",
    "        optimizer.zero_grad()\n",
    "        cost.backward()\n",
    "        optimizer.step()\n",
    "        \n",
    "        print('Epoch {:4d}/{} Batch : {} Cost : {:.6f}'.format(\n",
    "            epoch, nb_epochs, batch_idx+1, len(dataloader), cost.item()))\n",
    "        # len(dataloader) : 한 epoch당 batch 개수"
   ]
  },
  {
   "cell_type": "markdown",
   "metadata": {},
   "source": [
    "=> 어떠한 숫자 하나를 예측하는 모델      \n",
    "=> 다음은 분류 모델"
   ]
  }
 ],
 "metadata": {
  "kernelspec": {
   "display_name": "Python 3",
   "language": "python",
   "name": "python3"
  },
  "language_info": {
   "codemirror_mode": {
    "name": "ipython",
    "version": 3
   },
   "file_extension": ".py",
   "mimetype": "text/x-python",
   "name": "python",
   "nbconvert_exporter": "python",
   "pygments_lexer": "ipython3",
   "version": "3.8.5"
  }
 },
 "nbformat": 4,
 "nbformat_minor": 4
}
