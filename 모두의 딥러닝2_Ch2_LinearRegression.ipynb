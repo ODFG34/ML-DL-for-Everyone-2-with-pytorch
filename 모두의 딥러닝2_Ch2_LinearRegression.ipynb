{
 "cells": [
  {
   "cell_type": "markdown",
   "metadata": {},
   "source": [
    "# Linear Regression\n",
    "## 1. Data Definition\n",
    "## 2. Hypothesis\n",
    "## 3. Optimizer"
   ]
  },
  {
   "cell_type": "code",
   "execution_count": 2,
   "metadata": {},
   "outputs": [],
   "source": [
    "import torch"
   ]
  },
  {
   "cell_type": "markdown",
   "metadata": {},
   "source": [
    "## Data는 torch.tensor"
   ]
  },
  {
   "cell_type": "code",
   "execution_count": 3,
   "metadata": {},
   "outputs": [],
   "source": [
    "x_train = torch.FloatTensor( [ [1], [2], [3] ])\n",
    "y_train = torch.FloatTensor( [ [2], [4], [6] ])"
   ]
  },
  {
   "cell_type": "markdown",
   "metadata": {},
   "source": [
    "## Hypothesis"
   ]
  },
  {
   "cell_type": "markdown",
   "metadata": {},
   "source": [
    "$ y = Wx+ b $"
   ]
  },
  {
   "cell_type": "markdown",
   "metadata": {},
   "source": [
    "- Weight와 Bias 0으로 초기화\n",
    "- requires_grad = True : 학습할 것이라고 명시"
   ]
  },
  {
   "cell_type": "code",
   "execution_count": 4,
   "metadata": {},
   "outputs": [],
   "source": [
    "w = torch.zeros(1, requires_grad = True)\n",
    "b = torch.zeros(1, requires_grad = True)\n",
    "hypothesis = x_train * w + b"
   ]
  },
  {
   "cell_type": "markdown",
   "metadata": {},
   "source": [
    "- MSE    \n",
    "$ cost(W, b) = \\frac{1}{n} \\sum_{i=1}^{m}(H(x^{(i)}) - y^{(i)})^{2} $  \n",
    "- $\\frac{1}{m}\\sum$ : mean   \n",
    "- $H(x^{(i)}) $ : prediction    \n",
    "- $y^{(i)} $ : target"
   ]
  },
  {
   "cell_type": "code",
   "execution_count": 5,
   "metadata": {},
   "outputs": [],
   "source": [
    "cost = torch.mean( (hypothesis - y_train) **2 )"
   ]
  },
  {
   "cell_type": "code",
   "execution_count": 6,
   "metadata": {},
   "outputs": [
    {
     "data": {
      "text/plain": [
       "tensor(18.6667, grad_fn=<MeanBackward0>)"
      ]
     },
     "execution_count": 6,
     "metadata": {},
     "output_type": "execute_result"
    }
   ],
   "source": [
    "cost"
   ]
  },
  {
   "cell_type": "markdown",
   "metadata": {},
   "source": [
    "- 항상 붙어다니는 3줄\n",
    "   - zero_grad()로 gradient 초기화\n",
    "   - backward()로 gradient 계산\n",
    "   - step() 으로 개선"
   ]
  },
  {
   "cell_type": "code",
   "execution_count": 10,
   "metadata": {},
   "outputs": [],
   "source": [
    "optimizer = torch.optim.SGD( [w,b], lr = 0.01)\n",
    "\n",
    "optimizer.zero_grad()\n",
    "\n",
    "cost.backward()\n",
    "\n",
    "optimizer.step()"
   ]
  },
  {
   "cell_type": "markdown",
   "metadata": {},
   "source": [
    "## Full training code"
   ]
  },
  {
   "cell_type": "code",
   "execution_count": 11,
   "metadata": {},
   "outputs": [],
   "source": [
    "import torch\n",
    "\n",
    "# Data Definition\n",
    "x_train = torch.FloatTensor( [ [1], [2], [3] ])\n",
    "y_train = torch.FloatTensor( [ [2], [4], [6] ])\n",
    "\n",
    "# Hypothesis Initializer\n",
    "w = torch.zeros(1, requires_grad = True)\n",
    "b = torch.zeros(1, requires_grad = True)\n",
    "\n",
    "# Optimizer Definition\n",
    "optimizer = torch.optim.SGD( [w,b], lr = 0.01)\n",
    "\n",
    "nb_epochs = 1000\n",
    "\n",
    "# 반복 \n",
    "for epochs in range(1, nb_epochs + 1) : \n",
    "    \n",
    "    # Hypothesis 예측\n",
    "    hypothesis = x_train * w + b\n",
    "    # Cost 계산\n",
    "    cost = torch.mean( (hypothesis -y_train) ** 2)\n",
    "    \n",
    "    # Optimizer로 학습\n",
    "    optimizer.zero_grad()\n",
    "    cost.backward()\n",
    "    optimizer.step()\n",
    "    "
   ]
  },
  {
   "cell_type": "markdown",
   "metadata": {},
   "source": [
    "### -> Linear Regression 최선의 예측을 할 수 있게 학습 시키는 코드 구축"
   ]
  }
 ],
 "metadata": {
  "kernelspec": {
   "display_name": "Python 3",
   "language": "python",
   "name": "python3"
  },
  "language_info": {
   "codemirror_mode": {
    "name": "ipython",
    "version": 3
   },
   "file_extension": ".py",
   "mimetype": "text/x-python",
   "name": "python",
   "nbconvert_exporter": "python",
   "pygments_lexer": "ipython3",
   "version": "3.8.5"
  }
 },
 "nbformat": 4,
 "nbformat_minor": 4
}
